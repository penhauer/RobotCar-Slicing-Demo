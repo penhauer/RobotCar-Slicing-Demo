{
 "cells": [
  {
   "cell_type": "code",
   "execution_count": 12,
   "id": "36fd00f4-5413-47df-b562-0f7dc46f7859",
   "metadata": {},
   "outputs": [
    {
     "data": {
      "application/vnd.jupyter.widget-view+json": {
       "model_id": "1f2c7126434b4bf4a11872dc50072e57",
       "version_major": 2,
       "version_minor": 0
      },
      "text/plain": [
       "Controller()"
      ]
     },
     "metadata": {},
     "output_type": "display_data"
    }
   ],
   "source": [
    "import ipywidgets.widgets as widgets\n",
    "\n",
    "controller = widgets.Controller(index=0)  # replace with index of your controller\n",
    "\n",
    "display(controller)"
   ]
  },
  {
   "cell_type": "code",
   "execution_count": 13,
   "id": "68d96c4f-da2e-442f-ad67-27e36820fc5c",
   "metadata": {},
   "outputs": [
    {
     "name": "stdout",
     "output_type": "stream",
     "text": [
      "Sending message to server: {'name': 'change', 'old': traitlets.Undefined, 'new': {'value': 0.0, 'type': 'steering'}, 'owner': <__main__.ControllerClient object at 0x7b0f6c7a9d50>, 'type': 'change'}\n",
      "Sending message to server: {'name': 'change', 'old': {'value': 0.0, 'type': 'steering'}, 'new': {'value': -0.0, 'type': 'throttle'}, 'owner': <__main__.ControllerClient object at 0x7b0f6c7a9d50>, 'type': 'change'}\n"
     ]
    }
   ],
   "source": [
    "import traitlets\n",
    "from ipywidgets import Controller\n",
    "import socket\n",
    "import threading\n",
    "import json\n",
    "\n",
    "class ControllerClient(traitlets.HasTraits):\n",
    "    change = traitlets.Dict()\n",
    "    \n",
    "    @traitlets.validate('change')\n",
    "    def _clip_change(self, proposal):\n",
    "        return proposal['value']\n",
    "\n",
    "    \n",
    "    def __init__(self, server_ip, server_port):\n",
    "        self.controller = controller\n",
    "        self.server_ip = server_ip\n",
    "        self.server_port = server_port\n",
    "        self.connect()\n",
    "        self.setup_trait_links()\n",
    "    \n",
    "    def connect(self):\n",
    "        self.sock = socket.socket(socket.AF_INET, socket.SOCK_STREAM)\n",
    "        self.sock.connect((self.server_ip, self.server_port))\n",
    "        \n",
    "    def setup_trait_links(self):        \n",
    "        def transform(t):\n",
    "            def f(x):\n",
    "                return {\n",
    "                    \"value\": x,\n",
    "                    \"type\": t,\n",
    "                }\n",
    "            def g(x):\n",
    "                return {\n",
    "                    \"value\": -x,\n",
    "                    \"type\": t,\n",
    "                }\n",
    "            if t == \"steering\":\n",
    "                return f\n",
    "            return g\n",
    "        \n",
    "        traitlets.dlink((self.controller.axes[2], 'value'), (self, 'change'), transform=transform(\"steering\"))\n",
    "        traitlets.dlink((self.controller.axes[1], 'value'), (self, 'change'), transform=transform(\"throttle\"))\n",
    "    \n",
    "    @traitlets.observe('change')\n",
    "    def _on_change(self, d):\n",
    "        # Send the changed axis value to the server\n",
    "        print(f\"Sending message to server: {d}\")\n",
    "        msg = {\n",
    "            \"name\": d[\"name\"],\n",
    "            \"new\": d[\"new\"],\n",
    "        }\n",
    "        try:\n",
    "            self.sock.sendall(json.dumps(msg).encode('ascii'))\n",
    "        except Exception as e:\n",
    "            print(\"send failed with error. restarting the socket\")\n",
    "#             print(e)\n",
    "            self.reset_connection()\n",
    "        \n",
    "    def reset_connection(self):\n",
    "        self.close()\n",
    "        self.connect()\n",
    "    \n",
    "    def close(self):\n",
    "        self.sock.close()\n",
    "\n",
    "client = ControllerClient(server_ip='localhost', server_port=9999)\n",
    "\n"
   ]
  }
 ],
 "metadata": {
  "kernelspec": {
   "display_name": "Python 3 (ipykernel)",
   "language": "python",
   "name": "python3"
  },
  "language_info": {
   "codemirror_mode": {
    "name": "ipython",
    "version": 3
   },
   "file_extension": ".py",
   "mimetype": "text/x-python",
   "name": "python",
   "nbconvert_exporter": "python",
   "pygments_lexer": "ipython3",
   "version": "3.10.12"
  }
 },
 "nbformat": 4,
 "nbformat_minor": 5
}
